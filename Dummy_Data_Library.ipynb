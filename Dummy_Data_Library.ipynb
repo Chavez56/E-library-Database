{
  "cells": [
    {
      "cell_type": "markdown",
      "metadata": {},
      "source": [
        "### Import Libraries"
      ]
    },
    {
      "cell_type": "code",
      "execution_count": 28,
      "metadata": {
        "id": "ZunJTEpsRfiG"
      },
      "outputs": [],
      "source": [
        "from faker import Faker\n",
        "from tabulate import tabulate\n",
        "import random\n",
        "from datetime import datetime, timedelta\n",
        "import csv\n",
        "import pandas as pd"
      ]
    },
    {
      "cell_type": "code",
      "execution_count": 29,
      "metadata": {
        "id": "_4r4MZsJRiX6"
      },
      "outputs": [],
      "source": [
        "FAKER = Faker('en_AU')"
      ]
    },
    {
      "cell_type": "markdown",
      "metadata": {
        "id": "KrMSLAJS9o8C"
      },
      "source": [
        "### Function to Generate E-library Dummy Data"
      ]
    },
    {
      "cell_type": "code",
      "execution_count": 30,
      "metadata": {},
      "outputs": [],
      "source": [
        "def generate_libraries(n_library):\n",
        "\n",
        "    library_data = []\n",
        "\n",
        "    for i in range(n_library):\n",
        "        library_data.append(\n",
        "            {\n",
        "                'Library_id': f'L-{i+1}',\n",
        "                'Library_name': FAKER.company(),\n",
        "                'Library_address': FAKER.address()\n",
        "            }\n",
        "        )\n",
        "\n",
        "    return pd.DataFrame(library_data)\n",
        "\n",
        "#--------------------------------------------------------------\n",
        "def generate_books(n_books):\n",
        "\n",
        "    book_data = []\n",
        "\n",
        "    for i in range(n_books):\n",
        "        book_data.append(\n",
        "            {\n",
        "                'Book_id': f'B-{i+1}',\n",
        "                'Book_title': FAKER.catch_phrase(),\n",
        "                'Book_authors': FAKER.name()\n",
        "            }\n",
        "            \n",
        "        )\n",
        "\n",
        "    return pd.DataFrame(book_data)\n",
        "\n",
        "#--------------------------------------------------------------\n",
        "def generate_library_book(library_fake_data, book_fake_data):\n",
        "\n",
        "    library_book_data = []\n",
        "\n",
        "    for library_id in library_fake_data['Library_id']:\n",
        "        for book_id in book_fake_data['Book_id']:\n",
        "            library_book_data.append(\n",
        "                {\n",
        "                    'Library_order_id': len(library_book_data) + 1,\n",
        "                    'Library_id': library_id,\n",
        "                    'Book_id': book_id,\n",
        "                    'Available_quantity': random.randint(0,10)\n",
        "                }\n",
        "            )\n",
        "\n",
        "    return pd.DataFrame(library_book_data)\n",
        "\n",
        "#--------------------------------------------------------------\n",
        "def generate_category(n_category):\n",
        "    category = ['Self-Improvement', 'Biography', 'Fantasy', 'Romance', 'Science Fiction',\n",
        "                'Mystery', 'Thriller', 'Political', 'Text-books', 'Non-Fiction']\n",
        "    category_data = [{'Category_id': i + 1, 'Category_name': category_name} for i, category_name in enumerate(category[:n_category])]\n",
        "\n",
        "    return pd.DataFrame(category_data)\n",
        "    \n",
        "#--------------------------------------------------------------\n",
        "def book_category(book_fake_data, category_name_data):\n",
        "    book_category_data = []\n",
        "\n",
        "    for book_id in book_fake_data['Book_id']:\n",
        "        category_id = random.choice(category_name_data['Category_id'])\n",
        "        book_category_data.append(\n",
        "            {\n",
        "                'Book_id': book_id,\n",
        "                'Category_id': category_id\n",
        "            }\n",
        "        )\n",
        "\n",
        "    return pd.DataFrame(book_category_data)\n",
        "\n",
        "#--------------------------------------------------------------\n",
        "def user_information(n_user):\n",
        "    user_data = []\n",
        "\n",
        "    for i in range(n_user):\n",
        "        user_data.append(\n",
        "            {\n",
        "                'User_id': i + 1,\n",
        "                'User_name': FAKER.user_name(),\n",
        "                'User_email': FAKER.email(),\n",
        "                'User_password': FAKER.password(),\n",
        "                'Register_date': FAKER.date_this_decade(),\n",
        "            }\n",
        "        )\n",
        "    \n",
        "    return pd.DataFrame(user_data)\n",
        "    \n",
        "#--------------------------------------------------------------\n",
        "def loan_information(user_information, book_fake_data, library_fake_data):\n",
        "    loan_data = []\n",
        "\n",
        "    for _ in range(len(user_information) * 2): # Max 2 borrowed books per user\n",
        "        user_id = random.choice(user_information['User_id'])\n",
        "        book_id = random.choice(book_fake_data['Book_id'])\n",
        "        library_id = random.choice(library_fake_data['Library_id'])\n",
        "        loan_date = FAKER.date_this_year()\n",
        "        due_date = pd.to_datetime(loan_date) + timedelta(weeks=2)\n",
        "        loan_data.append(\n",
        "            {\n",
        "                'Loan_id': len(loan_data) + 1,\n",
        "                'User_id': user_id,\n",
        "                'Book_id': book_id,\n",
        "                'Library_id': library_id,\n",
        "                'Loan_date': loan_date,\n",
        "                'Due_date': due_date,\n",
        "                'Return_date': FAKER.date_between(start_date=loan_date, end_date=due_date) if random.random() > 0.5 else None\n",
        "            }\n",
        "        )\n",
        "    \n",
        "    return pd.DataFrame(loan_data)\n",
        "    \n",
        "#--------------------------------------------------------------\n",
        "def hold_information(user_information, book_fake_data, library_fake_data):\n",
        "    hold_data = []\n",
        "    for _ in range(len(user_information) * 2): # Max 2 hold books per user\n",
        "        borrow_status = ['Active', 'Inactive']\n",
        "        user_id = random.choice(user_information['User_id'])\n",
        "        book_id = random.choice(book_fake_data['Book_id'])\n",
        "        library_id = random.choice(library_fake_data['Library_id'])\n",
        "        hold_date = FAKER.date_this_year()\n",
        "        expiry_date = pd.to_datetime(hold_date) + timedelta(weeks=1)\n",
        "        borrow_status = random.choice(borrow_status)\n",
        "        hold_data.append(\n",
        "            {\n",
        "                'Hold_id': len(hold_data) + 1,\n",
        "                'User_id': user_id,\n",
        "                'Book_id': book_id,\n",
        "                'Library_id': library_id,\n",
        "                'Hold_date': hold_date,\n",
        "                'Expiry_date': expiry_date,\n",
        "                'Borrow_status': borrow_status\n",
        "            }\n",
        "        )\n",
        "    \n",
        "    return pd.DataFrame(hold_data)"
      ]
    },
    {
      "cell_type": "markdown",
      "metadata": {},
      "source": [
        "### Generate Dummy Data"
      ]
    },
    {
      "cell_type": "code",
      "execution_count": 31,
      "metadata": {},
      "outputs": [],
      "source": [
        "library_fake_data = generate_libraries(n_library=50)\n",
        "\n",
        "book_fake_data = generate_books(n_books=100)\n",
        "\n",
        "library_book_fake_data = generate_library_book(library_fake_data, book_fake_data)\n",
        "\n",
        "category_name_data = generate_category(n_category=10)\n",
        "\n",
        "book_category = book_category(book_fake_data=book_fake_data, category_name_data=category_name_data)\n",
        "\n",
        "user_information_data = user_information(n_user=50)\n",
        "\n",
        "loan_information_data = loan_information(user_information=user_information_data,\n",
        "                                        book_fake_data=book_fake_data,\n",
        "                                        library_fake_data=library_fake_data)\n",
        "                                        \n",
        "hold_information_data = hold_information(user_information=user_information_data,\n",
        "                                        book_fake_data=book_fake_data,\n",
        "                                        library_fake_data=library_fake_data)"
      ]
    },
    {
      "cell_type": "markdown",
      "metadata": {},
      "source": [
        "### Store Dummy Data"
      ]
    },
    {
      "cell_type": "code",
      "execution_count": 32,
      "metadata": {},
      "outputs": [],
      "source": [
        "library_fake_data.to_csv('Library_information.csv', index=False)\n",
        "book_fake_data.to_csv('Book_information.csv', index=False)\n",
        "library_book_fake_data.to_csv('Library_Book.csv', index=False)\n",
        "category_name_data.to_csv('Category_name.csv', index=False)\n",
        "book_category.to_csv('Book_Category.csv', index=False)\n",
        "user_information_data.to_csv('User_information.csv', index=False)\n",
        "loan_information_data.to_csv('Loan_information.csv',index=False)\n",
        "hold_information_data.to_csv('Hold_information.csv',index=False)"
      ]
    }
  ],
  "metadata": {
    "colab": {
      "provenance": []
    },
    "kernelspec": {
      "display_name": "Python 3",
      "name": "python3"
    },
    "language_info": {
      "codemirror_mode": {
        "name": "ipython",
        "version": 3
      },
      "file_extension": ".py",
      "mimetype": "text/x-python",
      "name": "python",
      "nbconvert_exporter": "python",
      "pygments_lexer": "ipython3",
      "version": "3.11.7"
    }
  },
  "nbformat": 4,
  "nbformat_minor": 0
}
